{
 "cells": [
  {
   "cell_type": "markdown",
   "id": "be02efb0",
   "metadata": {},
   "source": [
    "# Entornos virtuales en VSC\n",
    "\n",
    "***Nota***: *En Windows os recomiendo establecer la terminal por defecto a la **CMD** presionando `F1`, buscando la opción `default shell` y en el desplegable seleccionar la `cmd` o `línea de comandos`. Luego cerrar todas las terminales abiertas y reiniciar el programa*:\n",
    "\n",
    "![](docs/img04.png)\n",
    "\n",
    "<hr style=\"border:2px solid #BBB\">\n",
    "\n",
    "Lo último que vamos a ver es cómo gestiona el editor `Visual Studio Code` los entornos virtuales.\n",
    "\n",
    "Si abrimos un proyecto con un entorno virtual en el editor e intentamos editar un fichero python en su interior (extensión `.py`), desde la parte inferior podemos establecer en cualquier momento el intérprete para el proyecto (si no nos aparece en la lista buscar el nombre del proyecto):\n",
    "\n",
    "![](docs/img05.png)\n",
    "\n",
    "Al guardar o ejecutar un script `.py` con el intérprete virtual seleccionado *VSC* intentará cargar e instalar los paquetes de linting y autoformateo, os recomiendo instalar todo lo que el editor os sugiera:\n",
    "\n",
    "![](docs/img06.png)\n",
    "\n",
    "A partir de este momento, y cada vez que se abra una terminal en el proyecto, se activará el entorno virtual automáticamente (aquello que vimos de `pipenv shell`):\n",
    "\n",
    "![](docs/img07.png)\n",
    "\n",
    "Ya podremos trabajar con el entorno e incluso los scripts se ejecutarán automáticamente con el intérprete aislado.\n",
    "\n",
    "En caso de no querer activar el entorno automáticamente, podemos cambiar la opción `python.terminal.activateEnvironment` de la configuración a falso:\n",
    "\n",
    "![](docs/img08.png)\n",
    "\n",
    "En este punto si reiniciamos la terminal integrada podremos ejecutar cualquier comando con `pipenv run` tal como vimos (algo que os recomiendo):\n",
    "\n",
    "![](docs/img09.png)"
   ]
  },
  {
   "cell_type": "markdown",
   "id": "c6c3c332",
   "metadata": {},
   "source": [
    "## Scripts personalizados\n",
    "\n",
    "Algo que podemos configurar son alias de ejecución de scripts.\n",
    "\n",
    "Por ejemplo si queremos ejecutar un determinado comando como `pipenv run python hola.py` más fácilmente, podemos editar el `Pipfile` y en un nuevo bloque `[scripts]` añadir el alias en una línea:\n",
    "\n",
    "```toml\n",
    "[scripts]\n",
    "hola = \"pipenv run python hola.py\"\n",
    "```\n",
    "\n",
    "A partir de este momento podemos ejecutar este comando solo escribiendo en la terminal:\n",
    "\n",
    "```bash\n",
    "pipenv run hola\n",
    "```\n",
    "\n",
    "![](docs/img10.png)\n",
    "\n",
    "Es una funcionalidad especialmente útil con módulos que tienen muchos comandos como Django.\n",
    "\n",
    "En cualquier caso con esto os he enseñado casi todo lo que sé sobre `Pipenv`, a partir de aquí es cuestión de practicar por vuestra cuenta y si queréis profundizar os dejo la [documentación oficial](https://pipenv-fork.readthedocs.io/en/latest)."
   ]
  },
  {
   "cell_type": "code",
   "execution_count": null,
   "id": "f9e20ffa",
   "metadata": {},
   "outputs": [],
   "source": []
  }
 ],
 "metadata": {
  "kernelspec": {
   "display_name": "Python 3 (ipykernel)",
   "language": "python",
   "name": "python3"
  },
  "language_info": {
   "codemirror_mode": {
    "name": "ipython",
    "version": 3
   },
   "file_extension": ".py",
   "mimetype": "text/x-python",
   "name": "python",
   "nbconvert_exporter": "python",
   "pygments_lexer": "ipython3",
   "version": "3.10.5"
  }
 },
 "nbformat": 4,
 "nbformat_minor": 5
}
