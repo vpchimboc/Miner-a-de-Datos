{
 "cells": [
  {
   "cell_type": "markdown",
   "id": "b6cd723f",
   "metadata": {},
   "source": [
    "# Entornos virtuales\n",
    "\n",
    "## Python y PIP\n",
    "\n",
    "Cuando ejecutamos Python generalmente lo hacemos a través del intérprete instalado en nuestro sistema, podemos consultar donde se encuentra ese entorno ejecutando una simple consulta en el módulo `sys`:"
   ]
  },
  {
   "cell_type": "code",
   "execution_count": 1,
   "id": "f41beffc",
   "metadata": {},
   "outputs": [
    {
     "data": {
      "text/plain": [
       "'/Library/Frameworks/Python.framework/Versions/3.10/bin/python3'"
      ]
     },
     "execution_count": 1,
     "metadata": {},
     "output_type": "execute_result"
    }
   ],
   "source": [
    "import sys\n",
    "sys.executable"
   ]
  },
  {
   "cell_type": "markdown",
   "id": "8f113c2a",
   "metadata": {},
   "source": [
    "Podemos consultar la versión del intérprete desde una terminal:"
   ]
  },
  {
   "cell_type": "code",
   "execution_count": 2,
   "id": "61092833",
   "metadata": {},
   "outputs": [
    {
     "name": "stdout",
     "output_type": "stream",
     "text": [
      "Python 3.10.5\r\n"
     ]
    }
   ],
   "source": [
    "!python --version  # en su defecto utilizar python3"
   ]
  },
  {
   "cell_type": "markdown",
   "id": "c5fbb28b",
   "metadata": {},
   "source": [
    "El intérprete de Python tiene su propio gestor de paquetes llamado `pip`:"
   ]
  },
  {
   "cell_type": "code",
   "execution_count": 3,
   "id": "0974927c",
   "metadata": {},
   "outputs": [
    {
     "name": "stdout",
     "output_type": "stream",
     "text": [
      "pip 22.2 from /Library/Frameworks/Python.framework/Versions/3.10/lib/python3.10/site-packages/pip (python 3.10)\r\n"
     ]
    }
   ],
   "source": [
    "!pip --version"
   ]
  },
  {
   "cell_type": "markdown",
   "id": "f525baab",
   "metadata": {},
   "source": [
    "Este gestor es un módulo, por eso se puede ejecutar como un módulo mediante el parámetro `-m`:"
   ]
  },
  {
   "cell_type": "code",
   "execution_count": 4,
   "id": "cc7a376c",
   "metadata": {},
   "outputs": [
    {
     "name": "stdout",
     "output_type": "stream",
     "text": [
      "pip 22.2 from /Library/Frameworks/Python.framework/Versions/3.10/lib/python3.10/site-packages/pip (python 3.10)\r\n"
     ]
    }
   ],
   "source": [
    "!python -m pip --version"
   ]
  },
  {
   "cell_type": "markdown",
   "id": "ac6dd40a",
   "metadata": {},
   "source": [
    "Con esa lógica se puede actualizar como cualquier otro módulo del sistema:"
   ]
  },
  {
   "cell_type": "code",
   "execution_count": 5,
   "id": "3d75e3ba",
   "metadata": {},
   "outputs": [
    {
     "name": "stdout",
     "output_type": "stream",
     "text": [
      "Requirement already satisfied: pip in /Library/Frameworks/Python.framework/Versions/3.10/lib/python3.10/site-packages (22.2)\r\n"
     ]
    }
   ],
   "source": [
    "!python -m pip install --upgrade pip"
   ]
  },
  {
   "cell_type": "markdown",
   "id": "0e1fa403",
   "metadata": {},
   "source": [
    "Cada intérprete tiene asignado un solo un gestor de paquetes `pip`, eso significa que solo podemos instalar una versión de el mismo paquete:"
   ]
  },
  {
   "cell_type": "code",
   "execution_count": 6,
   "id": "79c9a68f",
   "metadata": {},
   "outputs": [
    {
     "name": "stdout",
     "output_type": "stream",
     "text": [
      "Package                   Version\r\n",
      "------------------------- -----------\r\n",
      "altgraph                  0.17.2\r\n",
      "appnope                   0.1.3\r\n",
      "argon2-cffi               21.3.0\r\n",
      "argon2-cffi-bindings      21.2.0\r\n",
      "asttokens                 2.0.5\r\n",
      "attrs                     21.4.0\r\n",
      "autopep8                  1.6.0\r\n",
      "backcall                  0.2.0\r\n",
      "beautifulsoup4            4.11.1\r\n",
      "bleach                    5.0.1\r\n",
      "build                     0.8.0\r\n",
      "certifi                   2022.6.15\r\n",
      "cffi                      1.15.1\r\n",
      "charset-normalizer        2.1.0\r\n",
      "commonmark                0.9.1\r\n",
      "cycler                    0.11.0\r\n",
      "debugpy                   1.6.1\r\n",
      "decorator                 5.1.1\r\n",
      "defusedxml                0.7.1\r\n",
      "distlib                   0.3.4\r\n",
      "docutils                  0.19\r\n",
      "entrypoints               0.4\r\n",
      "et-xmlfile                1.1.0\r\n",
      "executing                 0.8.3\r\n",
      "fastjsonschema            2.15.3\r\n",
      "filelock                  3.7.1\r\n",
      "fonttools                 4.34.4\r\n",
      "idna                      3.3\r\n",
      "importlib-metadata        4.12.0\r\n",
      "iniconfig                 1.1.1\r\n",
      "ipykernel                 6.15.0\r\n",
      "ipython                   8.4.0\r\n",
      "ipython-genutils          0.2.0\r\n",
      "jedi                      0.18.1\r\n",
      "Jinja2                    3.1.2\r\n",
      "jsonschema                4.6.1\r\n",
      "jupyter-client            7.3.4\r\n",
      "jupyter-core              4.10.0\r\n",
      "jupyterlab-pygments       0.2.2\r\n",
      "jupyterthemes             0.20.0\r\n",
      "keyring                   23.6.0\r\n",
      "kiwisolver                1.4.4\r\n",
      "lesscpy                   0.15.0\r\n",
      "lxml                      4.9.1\r\n",
      "macholib                  1.16\r\n",
      "MarkupSafe                2.1.1\r\n",
      "matplotlib                3.5.2\r\n",
      "matplotlib-inline         0.1.3\r\n",
      "Mensajes-hcosta           6.0\r\n",
      "mistune                   0.8.4\r\n",
      "nbclient                  0.6.6\r\n",
      "nbconvert                 6.5.0\r\n",
      "nbformat                  5.4.0\r\n",
      "nest-asyncio              1.5.5\r\n",
      "notebook                  6.4.12\r\n",
      "numpy                     1.23.1\r\n",
      "openpyxl                  3.0.10\r\n",
      "packaging                 21.3\r\n",
      "pandas                    1.4.3\r\n",
      "pandocfilters             1.5.0\r\n",
      "parso                     0.8.3\r\n",
      "pep517                    0.12.0\r\n",
      "pexpect                   4.8.0\r\n",
      "pickleshare               0.7.5\r\n",
      "Pillow                    9.2.0\r\n",
      "pip                       22.2\r\n",
      "pipenv                    2022.7.4\r\n",
      "pkginfo                   1.8.3\r\n",
      "platformdirs              2.5.2\r\n",
      "pluggy                    1.0.0\r\n",
      "ply                       3.11\r\n",
      "prometheus-client         0.14.1\r\n",
      "prompt-toolkit            3.0.30\r\n",
      "psutil                    5.9.1\r\n",
      "ptyprocess                0.7.0\r\n",
      "pure-eval                 0.2.2\r\n",
      "py                        1.11.0\r\n",
      "pycodestyle               2.8.0\r\n",
      "pycparser                 2.21\r\n",
      "Pygments                  2.12.0\r\n",
      "pyinstaller               5.2\r\n",
      "pyinstaller-hooks-contrib 2022.8\r\n",
      "pyparsing                 3.0.9\r\n",
      "pyrsistent                0.18.1\r\n",
      "pytest                    7.1.2\r\n",
      "python-dateutil           2.8.2\r\n",
      "pytz                      2022.1\r\n",
      "pyzmq                     23.2.0\r\n",
      "readme-renderer           35.0\r\n",
      "requests                  2.28.1\r\n",
      "requests-toolbelt         0.9.1\r\n",
      "rfc3986                   2.0.0\r\n",
      "rich                      12.4.4\r\n",
      "Send2Trash                1.8.0\r\n",
      "setuptools                58.1.0\r\n",
      "six                       1.16.0\r\n",
      "soupsieve                 2.3.2.post1\r\n",
      "stack-data                0.3.0\r\n",
      "terminado                 0.15.0\r\n",
      "tinycss2                  1.1.1\r\n",
      "toml                      0.10.2\r\n",
      "tomli                     2.0.1\r\n",
      "tornado                   6.2\r\n",
      "traitlets                 5.3.0\r\n",
      "twine                     4.0.1\r\n",
      "urllib3                   1.26.10\r\n",
      "virtualenv                20.15.1\r\n",
      "virtualenv-clone          0.5.7\r\n",
      "wcwidth                   0.2.5\r\n",
      "webencodings              0.5.1\r\n",
      "zipp                      3.8.0\r\n"
     ]
    }
   ],
   "source": [
    "!pip list"
   ]
  },
  {
   "cell_type": "markdown",
   "id": "79522ea3",
   "metadata": {},
   "source": [
    "¿No estáis de acuerdo conmigo en que si desarrollamos diferentes proyectos, es posible que necesitemos versiones diferentes de un mismo paquete? \n",
    "\n",
    "Por ejemplo imaginad que empezamos un proyecto con la versión 1 de un paquete como dependencia y al poco lo actualizan a la 2. Sin embargo no podemos actualizarlo porque han cambiado cosas y el proyecto quedaría inservible. Si a eso le sumamos que paralelamente necesitamos instalar sí o sí la versión 2 para otro proyecto qué podemos hacer?\n",
    "\n",
    "## Entornos virtuales\n",
    "\n",
    "Los desarrolladores de `Python` son consicientes de este problema y por eso el intérprete incorpora un módulo interno  llamado `venv`:"
   ]
  },
  {
   "cell_type": "code",
   "execution_count": 7,
   "id": "8ac023ce",
   "metadata": {},
   "outputs": [
    {
     "name": "stdout",
     "output_type": "stream",
     "text": [
      "usage: venv [-h] [--system-site-packages] [--symlinks | --copies] [--clear]\n",
      "            [--upgrade] [--without-pip] [--prompt PROMPT] [--upgrade-deps]\n",
      "            ENV_DIR [ENV_DIR ...]\n",
      "\n",
      "Creates virtual Python environments in one or more target directories.\n",
      "\n",
      "positional arguments:\n",
      "  ENV_DIR               A directory to create the environment in.\n",
      "\n",
      "options:\n",
      "  -h, --help            show this help message and exit\n",
      "  --system-site-packages\n",
      "                        Give the virtual environment access to the system\n",
      "                        site-packages dir.\n",
      "  --symlinks            Try to use symlinks rather than copies, when symlinks\n",
      "                        are not the default for the platform.\n",
      "  --copies              Try to use copies rather than symlinks, even when\n",
      "                        symlinks are the default for the platform.\n",
      "  --clear               Delete the contents of the environment directory if it\n",
      "                        already exists, before environment creation.\n",
      "  --upgrade             Upgrade the environment directory to use this version\n",
      "                        of Python, assuming Python has been upgraded in-place.\n",
      "  --without-pip         Skips installing or upgrading pip in the virtual\n",
      "                        environment (pip is bootstrapped by default)\n",
      "  --prompt PROMPT       Provides an alternative prompt prefix for this\n",
      "                        environment.\n",
      "  --upgrade-deps        Upgrade core dependencies: pip setuptools to the\n",
      "                        latest version in PyPI\n",
      "\n",
      "Once an environment has been created, you may wish to activate it, e.g. by\n",
      "sourcing an activate script in its bin directory.\n"
     ]
    }
   ],
   "source": [
    "!python -m venv -h"
   ]
  },
  {
   "cell_type": "markdown",
   "id": "a93bc01e",
   "metadata": {},
   "source": [
    "Este módulo permite crear copias del **entorno nativo** de `Python` con su propio gestor `pip` llamadas **entornos virtuales**.\n",
    "\n",
    "Como manejar entornos virtuales con `venv` requiere mucho trabajo aprenderemos un módulo más moderno para hacer lo mismo y más:\n",
    "\n",
    "## Pipenv\n",
    "\n",
    "Tal como su nombre indica, `Pipenv` es `pip` + `venv`, un conjunto de funcionalidades que permite gestionar entornos virtuales y sus dependencias:"
   ]
  },
  {
   "cell_type": "code",
   "execution_count": 8,
   "id": "f9d81419",
   "metadata": {},
   "outputs": [
    {
     "name": "stdout",
     "output_type": "stream",
     "text": [
      "Usage: python -m pipenv [OPTIONS] COMMAND [ARGS]...\n",
      "\n",
      "\u001b[39m\u001b[1mOptions:\u001b[39m\u001b[22m\n",
      "  --where                         Output project home information.\n",
      "  --venv                          Output virtualenv information.\n",
      "  --py                            Output Python interpreter information.\n",
      "  --envs                          Output Environment Variable options.\n",
      "  --rm                            Remove the virtualenv.\n",
      "  --bare                          Minimal output.\n",
      "  --man                           Display manpage.\n",
      "  --support                       Output diagnostic information for use in\n",
      "                                  GitHub issues.\n",
      "  --site-packages / --no-site-packages\n",
      "                                  Enable site-packages for the virtualenv.\n",
      "                                  [env var: PIPENV_SITE_PACKAGES]\n",
      "  --python TEXT                   Specify which version of Python virtualenv\n",
      "                                  should use.\n",
      "  --three                         Use Python 3 when creating virtualenv.\n",
      "  --clear                         Clears caches (pipenv, pip).  [env var:\n",
      "                                  PIPENV_CLEAR]\n",
      "  -q, --quiet                     Quiet mode.\n",
      "  -v, --verbose                   Verbose mode.\n",
      "  --pypi-mirror TEXT              Specify a PyPI mirror.\n",
      "  --version                       Show the version and exit.\n",
      "  -h, --help                      Show this message and exit.\n",
      "\n",
      "\n",
      "Usage Examples:\n",
      "   Create a new project using Python 3.7, specifically:\n",
      "   $ \u001b[33m\u001b[22mpipenv --python 3.7\u001b[39m\u001b[22m\n",
      "\n",
      "   Remove project virtualenv (inferred from current directory):\n",
      "   $ \u001b[33m\u001b[22mpipenv --rm\u001b[39m\u001b[22m\n",
      "\n",
      "   Install all dependencies for a project (including dev):\n",
      "   $ \u001b[33m\u001b[22mpipenv install --dev\u001b[39m\u001b[22m\n",
      "\n",
      "   Create a lockfile containing pre-releases:\n",
      "   $ \u001b[33m\u001b[22mpipenv lock --pre\u001b[39m\u001b[22m\n",
      "\n",
      "   Show a graph of your installed dependencies:\n",
      "   $ \u001b[33m\u001b[22mpipenv graph\u001b[39m\u001b[22m\n",
      "\n",
      "   Check your installed dependencies for security vulnerabilities:\n",
      "   $ \u001b[33m\u001b[22mpipenv check\u001b[39m\u001b[22m\n",
      "\n",
      "   Install a local setup.py into your virtual environment/Pipfile:\n",
      "   $ \u001b[33m\u001b[22mpipenv install -e .\u001b[39m\u001b[22m\n",
      "\n",
      "   Use a lower-level pip command:\n",
      "   $ \u001b[33m\u001b[22mpipenv run pip freeze\u001b[39m\u001b[22m\n",
      "\n",
      "Commands:\n",
      "\u001b[31m\u001b[1m  check\u001b[39m\u001b[22m         Checks for PyUp Safety security vulnerabilities and against\n",
      "                PEP 508 markers provided in Pipfile.\n",
      "\u001b[31m\u001b[1m  clean\u001b[39m\u001b[22m         Uninstalls all packages not specified in Pipfile.lock.\n",
      "\u001b[31m\u001b[1m  graph\u001b[39m\u001b[22m         Displays currently-installed dependency graph information.\n",
      "\u001b[35m\u001b[1m  install\u001b[39m\u001b[22m       Installs provided packages and adds them to Pipfile, or (if no\n",
      "                packages are given), installs all packages from Pipfile.\n",
      "\u001b[32m\u001b[1m  lock\u001b[39m\u001b[22m          Generates Pipfile.lock.\n",
      "\u001b[31m\u001b[1m  open\u001b[39m\u001b[22m          View a given module in your editor.\n",
      "  requirements  Generate a requirements.txt from Pipfile.lock.\n",
      "\u001b[33m\u001b[1m  run\u001b[39m\u001b[22m           Spawns a command installed into the virtualenv.\n",
      "\u001b[33m\u001b[1m  scripts\u001b[39m\u001b[22m       Lists scripts in current environment config.\n",
      "\u001b[33m\u001b[1m  shell\u001b[39m\u001b[22m         Spawns a shell within the virtualenv.\n",
      "\u001b[32m\u001b[1m  sync\u001b[39m\u001b[22m          Installs all packages specified in Pipfile.lock.\n",
      "\u001b[35m\u001b[1m  uninstall\u001b[39m\u001b[22m     Uninstalls a provided package and removes it from Pipfile.\n",
      "\u001b[32m\u001b[1m  update\u001b[39m\u001b[22m        Runs lock, then sync.\n",
      "  verify        Verify the hash in Pipfile.lock is up-to-date.\n",
      "\u001b[0m"
     ]
    }
   ],
   "source": [
    "!python -m pipenv -h"
   ]
  },
  {
   "cell_type": "markdown",
   "id": "e3ddb561",
   "metadata": {},
   "source": [
    "En la próxima lección vamos a aprender a utilizar `Pipenv` mediante la práctica creando nuestro primer entorno virtual."
   ]
  },
  {
   "cell_type": "code",
   "execution_count": null,
   "id": "29645b8f",
   "metadata": {},
   "outputs": [],
   "source": []
  }
 ],
 "metadata": {
  "kernelspec": {
   "display_name": "Python 3 (ipykernel)",
   "language": "python",
   "name": "python3"
  },
  "language_info": {
   "codemirror_mode": {
    "name": "ipython",
    "version": 3
   },
   "file_extension": ".py",
   "mimetype": "text/x-python",
   "name": "python",
   "nbconvert_exporter": "python",
   "pygments_lexer": "ipython3",
   "version": "3.10.5"
  }
 },
 "nbformat": 4,
 "nbformat_minor": 5
}
